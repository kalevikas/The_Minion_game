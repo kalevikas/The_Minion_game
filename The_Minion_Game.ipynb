{
 "cells": [
  {
   "cell_type": "markdown",
   "id": "8654b35f",
   "metadata": {},
   "source": [
    "- Kevin and Stuart want to play the 'The Minion Game'.\n",
    "-          **Game Rules**\n",
    "  - Both players are given the same string, S.\n",
    "  - Both players have to make substrings using the letters of the string S.\n",
    "  - Stuart has to make words starting with consonants.\n",
    "  - Kevin has to make words starting with vowels.\n",
    "  - The game ends when both players have made all possible substrings.\n"
   ]
  },
  {
   "cell_type": "markdown",
   "id": "4fe870f5",
   "metadata": {},
   "source": [
    "- **Scoring**\n",
    "-     A player gets +1 point for each occurrence of the substring in the string ."
   ]
  },
  {
   "cell_type": "markdown",
   "id": "b716b778",
   "metadata": {},
   "source": [
    "- **For Example:**\n",
    "- String  = BANANA\n",
    "- Kevin's vowel beginning word = ANA\n",
    "- Here, ANA occurs twice in BANANA. Hence, Kevin will get 2 Points."
   ]
  },
  {
   "cell_type": "markdown",
   "id": "8629a1f1",
   "metadata": {},
   "source": [
    "- **Your task is to determine the winner of the game and their score.**"
   ]
  },
  {
   "cell_type": "markdown",
   "id": "4aebf9b0",
   "metadata": {},
   "source": [
    "- **Prints**\n",
    "\n",
    "- string: the winner's name and score, separated by a space on one line, or Draw if there is no winner"
   ]
  },
  {
   "cell_type": "markdown",
   "id": "0f9f0354",
   "metadata": {},
   "source": [
    "- **Input Format**\n",
    "\n",
    "- A single line of input containing the string S.\n",
    "- Note: The string S will contain only uppercase letters: [A-Z]"
   ]
  },
  {
   "cell_type": "markdown",
   "id": "85f66278",
   "metadata": {},
   "source": [
    "**Sample Input**\n",
    "\n",
    "- BANANA\n",
    "\n",
    "**Sample Output**\n",
    "\n",
    "- Stuart 12"
   ]
  },
  {
   "cell_type": "code",
   "execution_count": null,
   "id": "89876080",
   "metadata": {},
   "outputs": [],
   "source": [
    "    BANANA\n",
    "# Stuarts starts with consonants:          # Kevin's starts with vovels.\n",
    "          Stuart                                 Kevin's\n",
    "    1)B-------> 1 pnt                        1)A\n",
    "    2)BA------> 1                            2)AN\n",
    "    3)BAN-----> 1                            3)ANA\n",
    "    4)BANA----> 1                            4)ANAN\n",
    "    5)BANAN---> 1                            5)ANANA\n",
    "    6)BANANA--> 1                            6)A\n",
    "    7)N-------> 1                            7)AN\n",
    "    8)NA------> 1                            8)ANA\n",
    "    9)NAN-----> 1                            9)A\n",
    "   10)NANA----> 1\n",
    "   11)N-------> 1\n",
    "   12)NA -----> 1\n",
    "\n",
    "    **Total**   12                         Total  9"
   ]
  },
  {
   "cell_type": "code",
   "execution_count": 8,
   "id": "788f1821",
   "metadata": {},
   "outputs": [
    {
     "name": "stdout",
     "output_type": "stream",
     "text": [
      "6\n"
     ]
    }
   ],
   "source": [
    "s='BANANA'\n",
    "print(len(s[0:]))\n"
   ]
  },
  {
   "cell_type": "code",
   "execution_count": 14,
   "id": "17167593",
   "metadata": {},
   "outputs": [
    {
     "name": "stdout",
     "output_type": "stream",
     "text": [
      "Enter string: BANANA\n",
      "Stuart 12\n"
     ]
    }
   ],
   "source": [
    "s=input(\"Enter string: \")\n",
    "def minion_game(string):\n",
    "    s1=0                    # take a vareable to count stuarts score\n",
    "    s2=0                    # variable to count kevin's score.\n",
    "    vov=\"AEIOU\"             # vovel's \n",
    "    \n",
    "    for i in range(len(s)): # here len(s)=6 therefore it iterates 6 times.\n",
    "        if s[i] not in vov: # for 1st iteration i=0 and s[0]=B,for 2nd:i=1,s[1]=A ,for 3rd:i=2,s[2]=N and so on.\n",
    "                            # for Stuart we only take consonants\n",
    "            s1=s1+len(s[i:])# the characters which not in vov are stored in s1.for 1st:s[i]=B so it takes B onwards i.eBANANA,3rd:NANA,5th:NA\n",
    "            \"\"\"\n",
    "            FOR 1st s1=0 and len(s[i])=6, s1=6\n",
    "                2nd s1=6 and s[i]=A so if condition false.\n",
    "                3rd s1=6 and len(s[i])= 4,s1=10\n",
    "                4th s1=10 and s[i]=A so if condition false.\n",
    "                5th s1=10 and len(s[i])=2,s1=12\n",
    "                so s1=12\n",
    "            \"\"\"\n",
    "        else:\n",
    "            s2=s2+len(s[i:])\n",
    "            \"\"\"\n",
    "            For 2nd s2=ANANA=5,S2=5\n",
    "                4th s2=5,and s[i:]=ANA,s2=5+3=8\n",
    "                6th s2=8 and s[i:]=A,s2=8+1=9\n",
    "                so s2=9\n",
    "            \"\"\"\n",
    "    if s1>s2:\n",
    "        print(\"Stuart\",s1)\n",
    "    else:\n",
    "        print(\"Kevin\",s2)\n",
    "        \n",
    "minion_game(s)"
   ]
  },
  {
   "cell_type": "code",
   "execution_count": 13,
   "id": "76d9adf6",
   "metadata": {},
   "outputs": [
    {
     "name": "stdout",
     "output_type": "stream",
     "text": [
      "Enter string: BANANANAAAS\n",
      "Draw\n"
     ]
    }
   ],
   "source": [
    "s=input(\"Enter string: \")\n",
    "def minion_game(string):\n",
    "    s1=0                    # take a vareable to count stuarts score\n",
    "    s2=0                    # variable to count kevin's score.\n",
    "    vov=\"AEIOU\"             # vovel's \n",
    "    \n",
    "    for i in range(len(s)): # here len(s)=6 therefore it iterates 6 times.\n",
    "        if s[i] not in vov: # for 1st iteration i=0 and s[0]=B,for 2nd:i=1,s[1]=A ,for 3rd:i=2,s[2]=N and so on.\n",
    "                            # for Stuart we only take consonants\n",
    "            s1=s1+len(s[i:])# the characters which not in vov are stored in s1.for 1st:s[i]=B so it takes B onwards i.eBANANA,3rd:NANA,5th:NA\n",
    "            \"\"\"\n",
    "            FOR 1st s1=0 and len(s[i])=6, s1=6\n",
    "                2nd s1=6 and s[i]=A so if condition false.\n",
    "                3rd s1=6 and len(s[i])= 4,s1=10\n",
    "                4th s1=10 and s[i]=A so if condition false.\n",
    "                5th s1=10 and len(s[i])=2,s1=12\n",
    "                so s1=12\n",
    "            \"\"\"\n",
    "        else:\n",
    "            s2=s2+len(s[i:])\n",
    "            \"\"\"\n",
    "            For 2nd s2=ANANA=5,S2=5\n",
    "                4th s2=5,and s[i:]=ANA,s2=5+3=8\n",
    "                6th s2=8 and s[i:]=A,s2=8+1=9\n",
    "                so s2=9\n",
    "            \"\"\"\n",
    "    if s1>s2:\n",
    "        print(\"Stuart\",s1)\n",
    "    elif s2>s1:\n",
    "        print(\"Kevin\",s2)\n",
    "        \n",
    "    else:\n",
    "        print(\"Draw\")\n",
    "        \n",
    "minion_game(s)"
   ]
  },
  {
   "cell_type": "code",
   "execution_count": 15,
   "id": "95e2aec4",
   "metadata": {},
   "outputs": [
    {
     "name": "stdout",
     "output_type": "stream",
     "text": [
      "BANANA\n",
      "Stuart 12\n"
     ]
    }
   ],
   "source": [
    "def minion_game(string):\n",
    "    s1=0\n",
    "    s2=0\n",
    "    vov='AEIOU'\n",
    "    \n",
    "    for i in range(len(s)):\n",
    "        if s[i] not in vov:\n",
    "            s1=s1+ len(s[i:])\n",
    "        else:\n",
    "            s2=s2+len(s[i:])\n",
    "            \n",
    "    if s1>s2:\n",
    "        print('Stuart',s1)\n",
    "    else:\n",
    "        print(\"Kevin\",s2)\n",
    "    # your code goes here\n",
    "\n",
    "if __name__ == '__main__':\n",
    "    s = input()\n",
    "    minion_game(s)"
   ]
  },
  {
   "cell_type": "code",
   "execution_count": 17,
   "id": "e06968d6",
   "metadata": {},
   "outputs": [
    {
     "name": "stdout",
     "output_type": "stream",
     "text": [
      "BANANA\n",
      "Stuart 12\n"
     ]
    }
   ],
   "source": [
    "def minion_game(string):\n",
    "    vowel =['A','E','I','O','U']\n",
    "    S=0\n",
    "    K=0\n",
    "    for i in range(len(string)):\n",
    "        if string[i] in vowel:\n",
    "            K+= len(string)-i\n",
    "        else:\n",
    "            S+=len(string)-i\n",
    "    if S>K:\n",
    "        print(\"Stuart\"+\" \"+ \"%d\" % S)\n",
    "    elif K>S:\n",
    "        print(\"Kevin\"+\" \"+'%d' % K)\n",
    "    else:\n",
    "        print(\"Draw\")\n",
    "        \n",
    "s = input()\n",
    "minion_game(s)"
   ]
  },
  {
   "cell_type": "code",
   "execution_count": null,
   "id": "9cef07af",
   "metadata": {},
   "outputs": [],
   "source": []
  }
 ],
 "metadata": {
  "kernelspec": {
   "display_name": "Python 3",
   "language": "python",
   "name": "python3"
  },
  "language_info": {
   "codemirror_mode": {
    "name": "ipython",
    "version": 3
   },
   "file_extension": ".py",
   "mimetype": "text/x-python",
   "name": "python",
   "nbconvert_exporter": "python",
   "pygments_lexer": "ipython3",
   "version": "3.8.8"
  }
 },
 "nbformat": 4,
 "nbformat_minor": 5
}
